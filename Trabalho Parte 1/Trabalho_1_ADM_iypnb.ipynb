{
  "nbformat": 4,
  "nbformat_minor": 0,
  "metadata": {
    "colab": {
      "name": "Trabalho 1 ADM.iypnb",
      "version": "0.3.2",
      "views": {},
      "default_view": {},
      "provenance": [],
      "collapsed_sections": []
    },
    "kernelspec": {
      "name": "python3",
      "display_name": "Python 3"
    }
  },
  "cells": [
    {
      "metadata": {
        "id": "v_R4mrgsfR1c",
        "colab_type": "code",
        "colab": {
          "autoexec": {
            "startup": false,
            "wait_interval": 0
          }
        }
      },
      "cell_type": "code",
      "source": [
        "import csv\n",
        "import math\n",
        "import random\n",
        "import numpy as np\n",
        "import operator\n",
        "import copy\n",
        "import matplotlib.pyplot as plt\n"
      ],
      "execution_count": 0,
      "outputs": []
    },
    {
      "metadata": {
        "id": "QIVwAEowtV20",
        "colab_type": "code",
        "colab": {
          "autoexec": {
            "startup": false,
            "wait_interval": 0
          }
        }
      },
      "cell_type": "code",
      "source": [
        "# Numero de folds\n",
        "KFOLDS = 10\n"
      ],
      "execution_count": 0,
      "outputs": []
    },
    {
      "metadata": {
        "id": "nY7MUIAliXQu",
        "colab_type": "code",
        "colab": {
          "autoexec": {
            "startup": false,
            "wait_interval": 0
          },
          "resources": {
            "http://localhost:8080/nbextensions/google.colab/files.js": {
              "data": "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",
              "ok": true,
              "headers": [
                [
                  "content-type",
                  "application/javascript"
                ]
              ],
              "status": 200,
              "status_text": ""
            }
          },
          "base_uri": "https://localhost:8080/",
          "height": 73
        },
        "outputId": "5a1a6482-036a-4694-bd74-bf08650fb92f",
        "executionInfo": {
          "status": "ok",
          "timestamp": 1526007747651,
          "user_tz": 180,
          "elapsed": 7104,
          "user": {
            "displayName": "Augusto Bennemann",
            "photoUrl": "//lh4.googleusercontent.com/-uh1jffP4anU/AAAAAAAAAAI/AAAAAAAAA88/1TQ_-mFOf34/s50-c-k-no/photo.jpg",
            "userId": "110926773250512152064"
          }
        }
      },
      "cell_type": "code",
      "source": [
        "# Display file input on Google Colab\n",
        "try:\n",
        "  from google.colab import files\n",
        "  uploaded = files.upload()\n",
        "except ImportError:\n",
        "  pass"
      ],
      "execution_count": 522,
      "outputs": [
        {
          "output_type": "display_data",
          "data": {
            "text/html": [
              "\n",
              "     <input type=\"file\" id=\"files-3ab26e82-a9f1-4462-8b7b-a7b739abd1da\" name=\"files[]\" multiple disabled />\n",
              "     <output id=\"result-3ab26e82-a9f1-4462-8b7b-a7b739abd1da\">\n",
              "      Upload widget is only available when the cell has been executed in the\n",
              "      current browser session. Please rerun this cell to enable.\n",
              "      </output>\n",
              "      <script src=\"/nbextensions/google.colab/files.js\"></script> "
            ],
            "text/plain": [
              "<IPython.core.display.HTML object>"
            ]
          },
          "metadata": {
            "tags": []
          }
        },
        {
          "output_type": "stream",
          "text": [
            "Saving wine_with_names.csv to wine_with_names.csv\n"
          ],
          "name": "stdout"
        }
      ]
    },
    {
      "metadata": {
        "id": "jppz-2R-hcy8",
        "colab_type": "code",
        "colab": {
          "autoexec": {
            "startup": false,
            "wait_interval": 0
          },
          "base_uri": "https://localhost:8080/",
          "height": 127
        },
        "outputId": "9b7bdb4f-6b3e-496c-c449-65cc14ce0cde",
        "executionInfo": {
          "status": "ok",
          "timestamp": 1526009759130,
          "user_tz": 180,
          "elapsed": 854,
          "user": {
            "displayName": "Augusto Bennemann",
            "photoUrl": "//lh4.googleusercontent.com/-uh1jffP4anU/AAAAAAAAAAI/AAAAAAAAA88/1TQ_-mFOf34/s50-c-k-no/photo.jpg",
            "userId": "110926773250512152064"
          }
        }
      },
      "cell_type": "code",
      "source": [
        "DISCRETE_ATT = 1\n",
        "CONTINUOUS_ATT = 2\n",
        "\n",
        "original_dataset = []\n",
        "preditiveAttributes = {}\n",
        "allAttributes = {}\n",
        "attributesTypes = {}\n",
        "EXPECTED_COLUMN = \"\"\n",
        "VALOR_NEGATIVO = 0\n",
        "VALOR_POSITIVO = 1\n",
        "\n",
        "def openFile(filename, delimiter, attTypes, posNegValues):\n",
        "  with open(filename, 'r') as file:\n",
        "    global attributesTypes, preditiveAttributes, allAttributes, original_dataset, EXPECTED_COLUMN, VALOR_POSITIVO, VALOR_NEGATIVO\n",
        "    lines = csv.reader(file, delimiter=delimiter)\n",
        "    list_lines = list(lines)\n",
        "    \n",
        "    print(list_lines[0])\n",
        "\n",
        "    attributesTypes = attTypes\n",
        "    preditiveAttributes = {x:i for i,x in enumerate(list_lines[0][:-1])}\n",
        "    allAttributes = {x:i for i,x in enumerate(list_lines[0])} #Includes Class (last column)\n",
        "\n",
        "    original_dataset = list_lines[1:]\n",
        "    EXPECTED_COLUMN = list_lines[0][-1]\n",
        "    \n",
        "    VALOR_POSITIVO = posNegValues['P']\n",
        "    VALOR_NEGATIVO = posNegValues['N']\n",
        "\n",
        "\"\"\"\n",
        "Defina abaixo o dataset a ser utilizado e informações sobre seus atributos. \n",
        "Para usar algum dos listados abaixo, basta descomentar sua linha\n",
        "\n",
        "ATENCAO: \n",
        "  (i) a classe a ser prevista deve ser a ultima coluna\n",
        "  (ii) a primeira linha deve conter o nome de cada atributo\n",
        "\"\"\"\n",
        "\n",
        "#openFile(\"dadosBenchmark_validacaoAlgoritmoAD.csv\", ';', {'Tempo': DISCRETE_ATT, 'Temperatura': DISCRETE_ATT, 'Umidade': DISCRETE_ATT, 'Ventoso': DISCRETE_ATT, 'Joga': DISCRETE_ATT}, {'N': 'Nao', 'P': 'Sim'})\n",
        "openFile(\"diabetes.csv\", ',', {'Pregnancies': CONTINUOUS_ATT, 'Glucose': CONTINUOUS_ATT, 'BloodPressure': CONTINUOUS_ATT, 'SkinThickness': CONTINUOUS_ATT, 'Insulin': CONTINUOUS_ATT, 'BMI': CONTINUOUS_ATT, 'DiabetesPedigreeFunction': CONTINUOUS_ATT, 'Age': CONTINUOUS_ATT, 'Outcome': DISCRETE_ATT}, {'N': '0', 'P': '1'})\n",
        "#openFile(\"wdbc_with_names.csv\", ',', {'id8': CONTINUOUS_ATT, 'id9': CONTINUOUS_ATT, 'id6': CONTINUOUS_ATT, 'id7': CONTINUOUS_ATT, 'id4': CONTINUOUS_ATT, 'id5': CONTINUOUS_ATT, 'id2': CONTINUOUS_ATT, 'id3': CONTINUOUS_ATT, 'id1': CONTINUOUS_ATT, 'id10': CONTINUOUS_ATT, 'id11': CONTINUOUS_ATT, 'id12': CONTINUOUS_ATT, 'id13': CONTINUOUS_ATT, 'id14': CONTINUOUS_ATT, 'id15': CONTINUOUS_ATT, 'id16': CONTINUOUS_ATT, 'id17': CONTINUOUS_ATT, 'id18': CONTINUOUS_ATT, 'id19': CONTINUOUS_ATT, 'id30': CONTINUOUS_ATT, 'id29': CONTINUOUS_ATT, 'id28': CONTINUOUS_ATT, 'id21': CONTINUOUS_ATT, 'id20': CONTINUOUS_ATT, 'id23': CONTINUOUS_ATT, 'id22': CONTINUOUS_ATT, 'id25': CONTINUOUS_ATT, 'id24': CONTINUOUS_ATT, 'id27': CONTINUOUS_ATT, 'id26': CONTINUOUS_ATT, 'Class': DISCRETE_ATT}, {'N': 'B', 'P': 'M'})\n",
        "#openFile(\"ionosphere_with_names.csv\", ',', {'id8': CONTINUOUS_ATT, 'id9': CONTINUOUS_ATT, 'id6': CONTINUOUS_ATT, 'id7': CONTINUOUS_ATT, 'id4': CONTINUOUS_ATT, 'id5': CONTINUOUS_ATT, 'id2': CONTINUOUS_ATT, 'id3': CONTINUOUS_ATT, 'id1': CONTINUOUS_ATT, 'id10': CONTINUOUS_ATT, 'id11': CONTINUOUS_ATT, 'id12': CONTINUOUS_ATT, 'id13': CONTINUOUS_ATT, 'id14': CONTINUOUS_ATT, 'id15': CONTINUOUS_ATT, 'id16': CONTINUOUS_ATT, 'id17': CONTINUOUS_ATT, 'id18': CONTINUOUS_ATT, 'id19': CONTINUOUS_ATT, 'id34': CONTINUOUS_ATT, 'id32': CONTINUOUS_ATT, 'id33': CONTINUOUS_ATT, 'id30': CONTINUOUS_ATT, 'id31': CONTINUOUS_ATT, 'id29': CONTINUOUS_ATT, 'id28': CONTINUOUS_ATT, 'id21': CONTINUOUS_ATT, 'id20': CONTINUOUS_ATT, 'id23': CONTINUOUS_ATT, 'id22': CONTINUOUS_ATT, 'id25': CONTINUOUS_ATT, 'id24': CONTINUOUS_ATT, 'id27': CONTINUOUS_ATT, 'id26': CONTINUOUS_ATT, 'Class': DISCRETE_ATT}, {'N': 'b', 'P': 'g'})\n",
        "#openFile(\"wine_with_names.csv\", ',', {'Alcohol': CONTINUOUS_ATT, 'Malic acid': CONTINUOUS_ATT, 'Ash': CONTINUOUS_ATT, 'Alcalinity of ash': CONTINUOUS_ATT, 'Magnesium': CONTINUOUS_ATT, 'Total phenols': CONTINUOUS_ATT, 'Flavanoids': CONTINUOUS_ATT, 'Nonflavanoid phenols': CONTINUOUS_ATT, 'Proanthocyanins': CONTINUOUS_ATT, 'Color intensity': CONTINUOUS_ATT, 'Hue': CONTINUOUS_ATT, 'OD280/0D315 of diluted wines': CONTINUOUS_ATT, 'Proline': CONTINUOUS_ATT, 'Class': DISCRETE_ATT}, {'P': '', 'N':''})\n",
        "\n",
        "\n",
        "print(\"allAttributes:\" + str(allAttributes))\n",
        "print(\"preditiveAttributes:\" + str(preditiveAttributes))\n",
        "print(\"attributeTypes:\" + str(attributesTypes))\n",
        "\n",
        "def countClasses(dataset, attribute_name=EXPECTED_COLUMN):\n",
        "  frequency = {} # frequency of a value\n",
        "\n",
        "  attribute = allAttributes[attribute_name]\n",
        "  \n",
        "  for line in dataset:\n",
        "    if line[attribute] in frequency:\n",
        "      frequency[line[attribute]] += 1.0\n",
        "    else:\n",
        "      frequency[line[attribute]] = 1.0\n",
        "      \n",
        "  return frequency\n",
        "      \n",
        "countclasses = countClasses(original_dataset)\n",
        "print(countclasses)\n",
        "\n",
        "# Converte classes possiveis (string) para números e fornece função pra consultá-las\n",
        "possibleClasses = {}\n",
        "for possibleClass in countclasses:\n",
        "  if not possibleClass in possibleClasses:\n",
        "    possibleClasses[possibleClass] = len(possibleClasses)\n",
        "    \n",
        "def normalize_data(dataset, high=1.0, low=0.0):\n",
        "    mins = np.min(dataset, axis=0)\n",
        "    maxs = np.max(dataset, axis=0)\n",
        "    \n",
        "    rng = maxs - mins\n",
        "    for i,d in enumerate(rng):\n",
        "      if d == 0:\n",
        "        rng[i] = 0.0000001 # avoid division by zero\n",
        "      \n",
        "    return high - (((high - low) * (maxs - dataset)) / rng)\n",
        "\n",
        "np_original_dataset = np.array(original_dataset)\n",
        "\n",
        "data_numeric = np.array(np_original_dataset[:,0:-1]).astype(np.float)\n",
        "data_normalized = normalize_data(data_numeric)\n",
        "dataset = np.concatenate((data_normalized, np_original_dataset[:, -1].reshape(len(np_original_dataset), 1)), axis=1)\n"
      ],
      "execution_count": 550,
      "outputs": [
        {
          "output_type": "stream",
          "text": [
            "['Pregnancies', 'Glucose', 'BloodPressure', 'SkinThickness', 'Insulin', 'BMI', 'DiabetesPedigreeFunction', 'Age', 'Outcome']\n",
            "allAttributes:{'Pregnancies': 0, 'Glucose': 1, 'BloodPressure': 2, 'SkinThickness': 3, 'Insulin': 4, 'BMI': 5, 'DiabetesPedigreeFunction': 6, 'Age': 7, 'Outcome': 8}\n",
            "preditiveAttributes:{'Pregnancies': 0, 'Glucose': 1, 'BloodPressure': 2, 'SkinThickness': 3, 'Insulin': 4, 'BMI': 5, 'DiabetesPedigreeFunction': 6, 'Age': 7}\n",
            "attributeTypes:{'Pregnancies': 2, 'Glucose': 2, 'BloodPressure': 2, 'SkinThickness': 2, 'Insulin': 2, 'BMI': 2, 'DiabetesPedigreeFunction': 2, 'Age': 2, 'Outcome': 1}\n",
            "{'1': 268.0, '0': 500.0}\n"
          ],
          "name": "stdout"
        }
      ]
    },
    {
      "metadata": {
        "id": "5nY7C0Mrg7xC",
        "colab_type": "code",
        "colab": {
          "autoexec": {
            "startup": false,
            "wait_interval": 0
          },
          "base_uri": "https://localhost:8080/",
          "height": 179
        },
        "outputId": "7829a72f-fbae-4641-fd5f-b491e07a3e05",
        "executionInfo": {
          "status": "ok",
          "timestamp": 1526009760178,
          "user_tz": 180,
          "elapsed": 630,
          "user": {
            "displayName": "Augusto Bennemann",
            "photoUrl": "//lh4.googleusercontent.com/-uh1jffP4anU/AAAAAAAAAAI/AAAAAAAAA88/1TQ_-mFOf34/s50-c-k-no/photo.jpg",
            "userId": "110926773250512152064"
          }
        }
      },
      "cell_type": "code",
      "source": [
        "# Calculate entropy for given attribute\n",
        "def entropy(dataset, attribute_name):\n",
        "  \n",
        "  attribute = allAttributes[attribute_name]\n",
        "  \n",
        "  frequency = {}\n",
        "  attribute_entropy = 0;\n",
        "  \n",
        "  for line in dataset:\n",
        "    if line[attribute] in frequency:\n",
        "      frequency[line[attribute]] += 1.0\n",
        "    else:\n",
        "      frequency[line[attribute]] = 1.0\n",
        "            \n",
        "  for value in frequency.values():\n",
        "    pi = value / len(dataset)\n",
        "    attribute_entropy += - pi * math.log(pi,2)\n",
        "  \n",
        "  return round(attribute_entropy,5)\n",
        "\n",
        "for attribute in allAttributes:\n",
        "  print(\"Entropia para \" + attribute + \": \" + str(entropy(dataset, attribute)))\n"
      ],
      "execution_count": 551,
      "outputs": [
        {
          "output_type": "stream",
          "text": [
            "Entropia para Pregnancies: 3.48205\n",
            "Entropia para Glucose: 6.75102\n",
            "Entropia para BloodPressure: 4.79247\n",
            "Entropia para SkinThickness: 4.58559\n",
            "Entropia para Insulin: 4.68159\n",
            "Entropia para BMI: 7.59376\n",
            "Entropia para DiabetesPedigreeFunction: 8.8285\n",
            "Entropia para Age: 5.02884\n",
            "Entropia para Outcome: 0.93313\n"
          ],
          "name": "stdout"
        }
      ]
    },
    {
      "metadata": {
        "id": "8j_Hv3ttnSTi",
        "colab_type": "code",
        "colab": {
          "autoexec": {
            "startup": false,
            "wait_interval": 0
          },
          "base_uri": "https://localhost:8080/",
          "height": 161
        },
        "cellView": "code",
        "outputId": "bb92c345-a3fa-4320-e403-f92636483627",
        "executionInfo": {
          "status": "ok",
          "timestamp": 1526009761493,
          "user_tz": 180,
          "elapsed": 1067,
          "user": {
            "displayName": "Augusto Bennemann",
            "photoUrl": "//lh4.googleusercontent.com/-uh1jffP4anU/AAAAAAAAAAI/AAAAAAAAA88/1TQ_-mFOf34/s50-c-k-no/photo.jpg",
            "userId": "110926773250512152064"
          }
        }
      },
      "cell_type": "code",
      "source": [
        "\n",
        "# Calculate gain for a given attribute\n",
        "def gain(dataset, attribute_name):\n",
        "  frequency = {} # frequency of a value \n",
        "  total_gain = entropy(dataset, EXPECTED_COLUMN) # entropy of default\n",
        "\n",
        "  attribute = preditiveAttributes[attribute_name]\n",
        "  \n",
        "  for line in dataset:\n",
        "    if line[attribute] in frequency:\n",
        "      frequency[line[attribute]] += 1.0\n",
        "    else:\n",
        "      frequency[line[attribute]] = 1.0\n",
        "      \n",
        "  for k, v in frequency.items():\n",
        "    pi = v / len(dataset)\n",
        "    subset = [line for line in dataset if line[attribute] == k]\n",
        "    total_gain -= pi * entropy(subset, EXPECTED_COLUMN)\n",
        "      \n",
        "  return round(total_gain,3)\n",
        "\n",
        "\n",
        "\n",
        "for attribute in preditiveAttributes:\n",
        "  print(\"Ganho para \" + attribute + \": \" + str(gain(dataset, attribute)))\n",
        "\n"
      ],
      "execution_count": 552,
      "outputs": [
        {
          "output_type": "stream",
          "text": [
            "Ganho para Pregnancies: 0.062\n",
            "Ganho para Glucose: 0.304\n",
            "Ganho para BloodPressure: 0.059\n",
            "Ganho para SkinThickness: 0.082\n",
            "Ganho para Insulin: 0.277\n",
            "Ganho para BMI: 0.344\n",
            "Ganho para DiabetesPedigreeFunction: 0.651\n",
            "Ganho para Age: 0.141\n"
          ],
          "name": "stdout"
        }
      ]
    },
    {
      "metadata": {
        "id": "FdYrM6gjOuZi",
        "colab_type": "code",
        "colab": {
          "autoexec": {
            "startup": false,
            "wait_interval": 0
          }
        },
        "cellView": "both"
      },
      "cell_type": "code",
      "source": [
        "class Node(object):\n",
        "  def __init__(self, attribute=None):\n",
        "    self.attribute = attribute\n",
        "    self.classType = None\n",
        "    self.operator = operator.eq\n",
        "    self.descendents = {}\n",
        "    \n",
        "  def addBranch(self, subAttribute, op, node):\n",
        "    self.descendents[subAttribute] = node\n",
        "    self.descendents[subAttribute].updateOperator(op)\n",
        "    \n",
        "  def updateClass(self, classType):\n",
        "    self.classType = classType\n",
        "\n",
        "  def updateAttribute(self, attribute):\n",
        "    self.attribute = attribute\n",
        "    \n",
        "  def updateOperator(self, op):\n",
        "    self.operator = op\n"
      ],
      "execution_count": 0,
      "outputs": []
    },
    {
      "metadata": {
        "id": "7G8piI4mq1fA",
        "colab_type": "code",
        "colab": {
          "autoexec": {
            "startup": false,
            "wait_interval": 0
          }
        },
        "cellView": "code"
      },
      "cell_type": "code",
      "source": [
        "def decisionTree(dataset, attributes):\n",
        "  # Crie um nó N\n",
        "  node = Node()\n",
        "\n",
        "  datasetClasses = countClasses(dataset)\n",
        "  \n",
        "  # Se todos os exemplos em D possuem a mesma classe yi, então retorne N como um nó folha rotulado com y\n",
        "  if len(datasetClasses) == 1:\n",
        "    node.updateClass(list(datasetClasses.keys())[0])\n",
        "    return node\n",
        "\n",
        "  # Se L é vazia, então retorne N como um nó folha rotulado com a classe yi mais frequente em D\n",
        "  elif len(attributes) == 0:\n",
        "    node.updateClass(max(datasetClasses.keys(), key=(lambda k: datasetClasses[k])))\n",
        "    return node\n",
        "\n",
        "  else:\n",
        "    # A = atributo preditivo em L que apresenta \"melhor\" critério de divisão\n",
        "    bestAttribute = random.sample(attributes.keys(), 1)[0]\n",
        "    bestAttributeGain = 0\n",
        "    randomAttributes = random.sample(attributes.keys(), min(int(math.sqrt(len(preditiveAttributes))), len(attributes)))\n",
        "    for attribute in randomAttributes:\n",
        "      currentAttributeGain = gain(dataset, attribute)\n",
        "      if currentAttributeGain > bestAttributeGain:\n",
        "        bestAttribute = attribute\n",
        "        bestAttributeGain = currentAttributeGain\n",
        "\n",
        "    # Associe A ao nó N\n",
        "    node.updateAttribute(bestAttribute)\n",
        "\n",
        "    # L = L - A\n",
        "    del attributes[bestAttribute]\n",
        "\n",
        "    #Para cada valor v distinto do atributo A, considerando os exemplos em D, faça\n",
        "    comparableAttributes = []       # lista com nome do atributo e operador\n",
        "    if attributesTypes[bestAttribute] == DISCRETE_ATT:\n",
        "      for i in countClasses(dataset, bestAttribute).keys():\n",
        "        comparableAttributes.append([i, operator.eq])\n",
        "    else :\n",
        "      average = round(sum(float(line[preditiveAttributes[bestAttribute]]) for line in dataset) / len(dataset), 5)\n",
        "      comparableAttributes.append([round(average+0.00001, 5), operator.le])\n",
        "      comparableAttributes.append([average, operator.gt])\n",
        "    \n",
        "    for subAttribute in comparableAttributes: \n",
        "      #Dv = subconjunto dos dados de treinamento em que A = v\n",
        "      subDataset = []\n",
        "      \n",
        "      value, op = subAttribute\n",
        "      \n",
        "      for line in dataset:\n",
        "        if op == operator.eq: # DISCRETE_ATTRIBUTE\n",
        "          if line[preditiveAttributes[bestAttribute]] == value:\n",
        "            subDataset.append(line)  \n",
        "        else: # CONTINUOUS ATTRIBUTE\n",
        "          if op(float(line[preditiveAttributes[bestAttribute]]), value):\n",
        "            subDataset.append(line)\n",
        "      \n",
        "      #Se Dv vazio, então retorne N como um nó folha rotulado com a classe yi mais frequente em Dv. \n",
        "      if len(subDataset) == 0:\n",
        "        subDatasetClasses = countClasses(subDataset)\n",
        "        node.addBranch(value, op, decisionTree(dataset, attributes))\n",
        "      \n",
        "      #Senão, associe N a uma subárvore retornada por arvoreDeDecisao(Dv,L)    \n",
        "      else: \n",
        "        subDatasetNP = np.array(subDataset)\n",
        "        node.addBranch(value, op, decisionTree(subDatasetNP, attributes))\n",
        "        \n",
        "    #retorne N\n",
        "    return node\n",
        "      \n",
        "      \n",
        "  \n",
        "  "
      ],
      "execution_count": 0,
      "outputs": []
    },
    {
      "metadata": {
        "id": "alSQJmekOrtm",
        "colab_type": "code",
        "colab": {
          "autoexec": {
            "startup": false,
            "wait_interval": 0
          }
        }
      },
      "cell_type": "code",
      "source": [
        "# Apenas testando a criacao\n",
        "copyPreditiveAttributes = copy.copy(preditiveAttributes)\n",
        "root_node = decisionTree(dataset, copyPreditiveAttributes)\n"
      ],
      "execution_count": 0,
      "outputs": []
    },
    {
      "metadata": {
        "id": "s5k57xGGbp3-",
        "colab_type": "code",
        "colab": {
          "autoexec": {
            "startup": false,
            "wait_interval": 0
          },
          "base_uri": "https://localhost:8080/",
          "height": 611
        },
        "outputId": "a5d5fa03-9f95-4eb2-969b-160a447d84b8",
        "executionInfo": {
          "status": "ok",
          "timestamp": 1526009764670,
          "user_tz": 180,
          "elapsed": 557,
          "user": {
            "displayName": "Augusto Bennemann",
            "photoUrl": "//lh4.googleusercontent.com/-uh1jffP4anU/AAAAAAAAAAI/AAAAAAAAA88/1TQ_-mFOf34/s50-c-k-no/photo.jpg",
            "userId": "110926773250512152064"
          }
        }
      },
      "cell_type": "code",
      "source": [
        "#Testando exibicao de arvore\n",
        "def printTree(node, level=0):\n",
        "  print(''.join(['   ' for s in range(level)]) + str(node.attribute) + \": \" + str(node.classType))\n",
        "  for k, v in node.descendents.items():\n",
        "    print(''.join(['   ' for s in range(level)]) + '-> ' + str(k))\n",
        "    printTree(v, level + 1)\n",
        "    \n",
        "printTree(root_node)\n"
      ],
      "execution_count": 556,
      "outputs": [
        {
          "output_type": "stream",
          "text": [
            "DiabetesPedigreeFunction: None\n",
            "-> 0.16819\n",
            "   BMI: None\n",
            "   -> 0.46661\n",
            "      Age: None\n",
            "      -> 0.18263\n",
            "         Glucose: None\n",
            "         -> 0.53588\n",
            "            Insulin: None\n",
            "            -> 0.03798\n",
            "               SkinThickness: None\n",
            "               -> 0.09804\n",
            "                  None: 0\n",
            "               -> 0.09803\n",
            "                  Pregnancies: None\n",
            "                  -> 0.12046\n",
            "                     None: 0\n",
            "                  -> 0.12045\n",
            "                     BloodPressure: None\n",
            "                     -> 0.52323\n",
            "                        None: 0\n",
            "                     -> 0.52322\n",
            "                        None: 0\n",
            "            -> 0.03797\n",
            "               None: 0\n",
            "         -> 0.53587\n",
            "            None: 0\n",
            "      -> 0.18262\n",
            "         None: 0\n",
            "   -> 0.4666\n",
            "      None: 0\n",
            "-> 0.16818\n",
            "   None: 0\n"
          ],
          "name": "stdout"
        }
      ]
    },
    {
      "metadata": {
        "id": "wkHSTTwvu5d8",
        "colab_type": "code",
        "colab": {
          "autoexec": {
            "startup": false,
            "wait_interval": 0
          }
        }
      },
      "cell_type": "code",
      "source": [
        "def classify(node, entry):\n",
        "  \n",
        "  if not node.descendents:\n",
        "    return node.classType\n",
        "\n",
        "  for value, desc_node in node.descendents.items():\n",
        "    op = desc_node.operator\n",
        "    \n",
        "    if op == operator.eq:\n",
        "      if entry[preditiveAttributes[node.attribute]] == value:\n",
        "        return classify(desc_node, entry)\n",
        "    elif op(float(entry[preditiveAttributes[node.attribute]]), value):\n",
        "      return classify(desc_node, entry)\n",
        "\n",
        "  return None\n",
        "  "
      ],
      "execution_count": 0,
      "outputs": []
    },
    {
      "metadata": {
        "id": "Z73AWvwU4Vb4",
        "colab_type": "code",
        "colab": {
          "autoexec": {
            "startup": false,
            "wait_interval": 0
          },
          "base_uri": "https://localhost:8080/",
          "height": 557
        },
        "outputId": "ff369631-b10e-40b0-d7aa-a3c842e5750a",
        "executionInfo": {
          "status": "ok",
          "timestamp": 1526009766107,
          "user_tz": 180,
          "elapsed": 554,
          "user": {
            "displayName": "Augusto Bennemann",
            "photoUrl": "//lh4.googleusercontent.com/-uh1jffP4anU/AAAAAAAAAAI/AAAAAAAAA88/1TQ_-mFOf34/s50-c-k-no/photo.jpg",
            "userId": "110926773250512152064"
          }
        }
      },
      "cell_type": "code",
      "source": [
        "# Apenas um teste rapido\n",
        "for d in dataset[0:15]:\n",
        "  print(\"Esperado: \" + str(d[-1]))\n",
        "  print(\"Resultado: \" + str(classify(root_node, d[:-1])))"
      ],
      "execution_count": 558,
      "outputs": [
        {
          "output_type": "stream",
          "text": [
            "Esperado: 1\n",
            "Resultado: 0\n",
            "Esperado: 0\n",
            "Resultado: 0\n",
            "Esperado: 1\n",
            "Resultado: 0\n",
            "Esperado: 0\n",
            "Resultado: 0\n",
            "Esperado: 1\n",
            "Resultado: 0\n",
            "Esperado: 0\n",
            "Resultado: 0\n",
            "Esperado: 1\n",
            "Resultado: 0\n",
            "Esperado: 0\n",
            "Resultado: 0\n",
            "Esperado: 1\n",
            "Resultado: 0\n",
            "Esperado: 1\n",
            "Resultado: 0\n",
            "Esperado: 0\n",
            "Resultado: 0\n",
            "Esperado: 1\n",
            "Resultado: 0\n",
            "Esperado: 0\n",
            "Resultado: 0\n",
            "Esperado: 1\n",
            "Resultado: 0\n",
            "Esperado: 1\n",
            "Resultado: 0\n"
          ],
          "name": "stdout"
        }
      ]
    },
    {
      "metadata": {
        "id": "4cMb3vZr7VrE",
        "colab_type": "code",
        "colab": {
          "autoexec": {
            "startup": false,
            "wait_interval": 0
          }
        }
      },
      "cell_type": "code",
      "source": [
        "def createBootstrap(dataset, fraction):\n",
        "  bootstrap = dataset[np.random.randint(0,dataset.shape[0],int(len(dataset)*fraction))]\n",
        "  bootstrap = np.concatenate(\n",
        "      (\n",
        "          bootstrap,\n",
        "          bootstrap[np.random.randint(0,bootstrap.shape[0], len(dataset) - len(bootstrap))]\n",
        "      ),      \n",
        "      axis=0\n",
        "  )\n",
        "  \n",
        "  return bootstrap"
      ],
      "execution_count": 0,
      "outputs": []
    },
    {
      "metadata": {
        "id": "8JkmfRsrpsrq",
        "colab_type": "code",
        "colab": {
          "autoexec": {
            "startup": false,
            "wait_interval": 0
          },
          "base_uri": "https://localhost:8080/",
          "height": 827
        },
        "outputId": "516fae19-32f7-4ace-9f90-a32f8e629311",
        "executionInfo": {
          "status": "ok",
          "timestamp": 1526009769891,
          "user_tz": 180,
          "elapsed": 2931,
          "user": {
            "displayName": "Augusto Bennemann",
            "photoUrl": "//lh4.googleusercontent.com/-uh1jffP4anU/AAAAAAAAAAI/AAAAAAAAA88/1TQ_-mFOf34/s50-c-k-no/photo.jpg",
            "userId": "110926773250512152064"
          }
        }
      },
      "cell_type": "code",
      "source": [
        "\n",
        "def createForest(trainingSet, ntree):\n",
        "  forest = []\n",
        "  for i in range(ntree):\n",
        "    bootstrap = createBootstrap(trainingSet, fraction=0.66)\n",
        "    copyPreditiveAttributes = copy.copy(preditiveAttributes)\n",
        "    tree = decisionTree(trainingSet, copyPreditiveAttributes)\n",
        "    forest.append(tree)\n",
        "  \n",
        "  return forest\n",
        "\n",
        "def most_common(lst):\n",
        "    return max(set(lst), key=lst.count)\n",
        "\n",
        "def main():\n",
        "    forest = createForest(dataset, 10); # 10 arvores\n",
        "    \n",
        "    testSet = [dataset[i][:-1] for i in range(len(dataset[0:15]))]\n",
        "    for i, test in enumerate(testSet):\n",
        "      results = []\n",
        "      for tree in forest:\n",
        "        answer = classify(tree, test)\n",
        "        if answer != None:\n",
        "          results.append(answer)\n",
        "      \n",
        "      print(results)\n",
        "      print(\"Votação majoritária: \" + str(most_common(results)))\n",
        "      print(\"deve ser: \" + str(dataset[i][-1]))\n",
        "      \n",
        "main()"
      ],
      "execution_count": 560,
      "outputs": [
        {
          "output_type": "stream",
          "text": [
            "['0', '0', '0', '0', '0', '0', '1', '0', '0', '0']\n",
            "Votação majoritária: 0\n",
            "deve ser: 1\n",
            "['0', '0', '0', '0', '0', '0', '0', '0', '0', '0']\n",
            "Votação majoritária: 0\n",
            "deve ser: 0\n",
            "['0', '0', '0', '0', '0', '0', '1', '0', '0', '0']\n",
            "Votação majoritária: 0\n",
            "deve ser: 1\n",
            "['0', '0', '0', '0', '0', '0', '0', '0', '0', '0']\n",
            "Votação majoritária: 0\n",
            "deve ser: 0\n",
            "['0', '0', '0', '0', '0', '0', '1', '0', '0', '0']\n",
            "Votação majoritária: 0\n",
            "deve ser: 1\n",
            "['0', '0', '0', '0', '0', '0', '0', '0', '0', '0']\n",
            "Votação majoritária: 0\n",
            "deve ser: 0\n",
            "['0', '0', '1', '0', '0', '0', '0', '0', '0', '0']\n",
            "Votação majoritária: 0\n",
            "deve ser: 1\n",
            "['0', '0', '0', '0', '0', '0', '0', '0', '1', '0']\n",
            "Votação majoritária: 0\n",
            "deve ser: 0\n",
            "['0', '0', '0', '0', '0', '0', '1', '0', '0', '0']\n",
            "Votação majoritária: 0\n",
            "deve ser: 1\n",
            "['0', '0', '0', '0', '0', '0', '1', '0', '0', '0']\n",
            "Votação majoritária: 0\n",
            "deve ser: 1\n",
            "['0', '0', '0', '0', '0', '0', '0', '0', '0', '0']\n",
            "Votação majoritária: 0\n",
            "deve ser: 0\n",
            "['0', '0', '0', '0', '0', '0', '1', '0', '0', '0']\n",
            "Votação majoritária: 0\n",
            "deve ser: 1\n",
            "['0', '0', '0', '0', '0', '0', '1', '0', '0', '0']\n",
            "Votação majoritária: 0\n",
            "deve ser: 0\n",
            "['0', '0', '0', '0', '0', '0', '1', '0', '0', '0']\n",
            "Votação majoritária: 0\n",
            "deve ser: 1\n",
            "['0', '0', '0', '0', '0', '0', '1', '0', '0', '0']\n",
            "Votação majoritária: 0\n",
            "deve ser: 1\n"
          ],
          "name": "stdout"
        }
      ]
    },
    {
      "metadata": {
        "id": "tJjNt-O078xM",
        "colab_type": "code",
        "colab": {
          "autoexec": {
            "startup": false,
            "wait_interval": 0
          },
          "base_uri": "https://localhost:8080/",
          "height": 1229
        },
        "outputId": "5ea5f61b-95ca-4ad1-d38a-818ab8a96e6f",
        "executionInfo": {
          "status": "ok",
          "timestamp": 1526009807959,
          "user_tz": 180,
          "elapsed": 38008,
          "user": {
            "displayName": "Augusto Bennemann",
            "photoUrl": "//lh4.googleusercontent.com/-uh1jffP4anU/AAAAAAAAAAI/AAAAAAAAA88/1TQ_-mFOf34/s50-c-k-no/photo.jpg",
            "userId": "110926773250512152064"
          }
        }
      },
      "cell_type": "code",
      "source": [
        "plt.style.use('seaborn-whitegrid')\n",
        "\n",
        "def fold_i_of_k(dataset, i, k):\n",
        "    n = len(dataset)\n",
        "    return dataset[n*(i-1)//k:n*i//k]\n",
        "\n",
        "  \n",
        "def calculatePrecMacro(testFold, results):\n",
        "  prec = {}\n",
        "  \n",
        "  for i, d in enumerate(possibleClasses):\n",
        "    vn = vp = fn = fp = 0\n",
        "\n",
        "    for i in range(len(testFold)):\n",
        "        if testFold[i][-1] != results[i][0]:\n",
        "            if results[i][0] == d:\n",
        "                fp += 1\n",
        "            else:\n",
        "                fn += 1\n",
        "        else:\n",
        "            if results[i][0] == d:\n",
        "                vp += 1\n",
        "            else:\n",
        "                vn += 1\n",
        "\n",
        "    print (\"vp: \" + str(vp) + \"  vn: \" + str(vn) + \" fp: \" + str(fp) + \" fn: \" + str(fn))\n",
        "\n",
        "    prec[d] = vp / float(vp + fp)\n",
        "\n",
        "  prec_macro = sum(prec.values()) / len(prec)\n",
        "\n",
        "  return prec_macro\n",
        "\n",
        "def calculateAccuracyAndF1(testFold, results):\n",
        "  incorrect = 0\n",
        "  fp = fn = vp = vn = 0\n",
        "  for i in range(len(testFold)):\n",
        "      if testFold[i][-1] != results[i][0]:\n",
        "          incorrect += 1 # For acurracy\n",
        "          if results[i][0] == VALOR_NEGATIVO:\n",
        "              fn += 1\n",
        "          elif results[i][0] == VALOR_POSITIVO:\n",
        "              fp += 1\n",
        "      else:\n",
        "          if results[i][0] == VALOR_NEGATIVO:\n",
        "              vn += 1\n",
        "          elif results[i][0] == VALOR_POSITIVO:\n",
        "              vp += 1\n",
        "\n",
        "  print (\"vp: \" + str(vp) + \"  vn: \" + str(vn) + \" fp: \" + str(fp) + \" fn: \" + str(fn))\n",
        "\n",
        "  rev =  vp / float(vp + fn)\n",
        "  prec = vp / float(vp + fp)\n",
        "\n",
        "  f1 = 2 * (prec * rev / float(prec + rev))\n",
        "\n",
        "  return (1 - (incorrect/float(len(testFold)))), f1\n",
        "\n",
        "def main_random_forest(ntree):\n",
        "  dataset_copy = copy.copy(dataset)\n",
        "  np.random.shuffle(dataset_copy)\n",
        "  \n",
        "  outcomes = { d:[] for i,d in enumerate(possibleClasses)}\n",
        "  \n",
        "  for i in dataset_copy:\n",
        "    outcomes[i[-1]].append(i)\n",
        "  \n",
        "  folds_by_class = {}\n",
        "  for index, d in enumerate(possibleClasses):\n",
        "    folds_by_class[d] = [fold_i_of_k(outcomes[d], i+1, KFOLDS) for i in range(KFOLDS)]\n",
        "  \n",
        "  folds = [np.concatenate(tuple(folds_by_class[d][i] for d in possibleClasses), axis=0) for i in range(KFOLDS)]\n",
        "  \n",
        "  accuracy = [0 for i in range(KFOLDS)]\n",
        "  f1_score = [0 for i in range(KFOLDS)]\n",
        "  prec_macro_score = [0 for i in range(KFOLDS)]\n",
        "\n",
        "  print(\"KFOLDS = %d \\t ntree = %s\" % (KFOLDS, ntree))\n",
        "  \n",
        "  for i in range(KFOLDS):\n",
        "      minlen = len(dataset)\n",
        "      for v1 in folds_by_class.keys():\n",
        "        for v2 in folds_by_class[v1]:\n",
        "          minlen = min(minlen, len(v2))\n",
        "\n",
        "      # Concatenate and remove outcome\n",
        "      original_testing_fold = np.concatenate(tuple(folds_by_class[d][i][0:minlen-1] for d in possibleClasses), axis=0)\n",
        "      testing_fold = np.delete(original_testing_fold, -1, axis=1)\n",
        "\n",
        "      training_fold = None\n",
        "      for j in range(KFOLDS):\n",
        "          if (i != j):\n",
        "              if training_fold is None:\n",
        "                  training_fold = np.concatenate(tuple(folds_by_class[d][j][0:minlen-1] for d in possibleClasses), axis=0)\n",
        "              else:\n",
        "                  newarray = np.concatenate(tuple(folds_by_class[d][j][0:minlen-1] for d in possibleClasses), axis=0)\n",
        "                  training_fold = np.concatenate((training_fold, newarray), axis=0)\n",
        "                  \n",
        "      testing_fold_list = testing_fold.tolist()\n",
        "\n",
        "      forest = createForest(training_fold, ntree);\n",
        "\n",
        "      fold_results = []\n",
        "      for index, testfold in enumerate(testing_fold_list):\n",
        "        results = []\n",
        "        for tree in forest:\n",
        "          answer = classify(tree, testfold)\n",
        "          if answer != None:\n",
        "            results.append(answer)\n",
        "          \n",
        "        fold_results.append([most_common(results)])\n",
        "        #print(\"Votação majoritária: \" + str(most_common(results)))\n",
        "        #print(\"Esperado: \" + str(original_testing_fold[index][allAttributes[EXPECTED_COLUMN]]) + \"\\n\\n\")\n",
        "              \n",
        "      if len(possibleClasses) <= 2:\n",
        "        acc, f1 = calculateAccuracyAndF1(original_testing_fold, fold_results)\n",
        "        accuracy[i] = acc\n",
        "        f1_score[i] = f1\n",
        "        print(\"FOLD #%d ->  acc:%f  f1:%f\" % (i, acc, f1))\n",
        "      else:\n",
        "        precmacro = calculatePrecMacro(original_testing_fold, fold_results)\n",
        "        prec_macro_score[i] = precmacro\n",
        "        print(\"FOLD #%d ->  prec_macro:%f\" % (i, precmacro))\n",
        "\n",
        "  if len(possibleClasses) <= 2:\n",
        "    accuracy_avg = np.average(accuracy)\n",
        "    accuracy_std = np.std(accuracy)\n",
        "    f1_avg = np.average(f1_score)\n",
        "    f1_std = np.std(f1_score)\n",
        "    print(\"Acurácia   -> \\tMédia: %.2f\\tDesvio Padrão: %.2f\" % (accuracy_avg, accuracy_std))\n",
        "    print(\"Escore F-1 -> \\tMédia: %.2f\\tDesvio Padrão: %.2f\" % (f1_avg, f1_std))\n",
        "    return [f1_avg, f1_std]\n",
        "  \n",
        "  else:\n",
        "    precmacro_avg = np.average(prec_macro_score)\n",
        "    precmacro_std = np.std(prec_macro_score)\n",
        "    print(\"Escore prec_macro-> \\tMédia: %.2f\\tDesvio Padrão: %.2f\" % (precmacro_avg, precmacro_std))\n",
        "    return [precmacro_avg, precmacro_std]\n",
        "\n",
        "ntrees_to_test = [10, 25, 50, 75, 100, 125]\n",
        "score_results = [main_random_forest(i) for i in ntrees_to_test]\n",
        "score_r_avg = np.array(score_results)[:,0]\n",
        "score_r_std = np.array(score_results)[:,1]\n",
        "\n",
        "print(score_r_avg)\n",
        "print(score_r_std)\n",
        "\n",
        "plt.xlim(0, 150)\n",
        "plt.ylim(0, 1)\n",
        "plt.xlabel(\"Número de árvores\")\n",
        "plt.ylabel(\"Score\")\n",
        "plt.scatter(ntrees_to_test, score_r_avg, marker='o');\n",
        "\n",
        "\n"
      ],
      "execution_count": 561,
      "outputs": [
        {
          "output_type": "stream",
          "text": [
            "KFOLDS = 10 \t ntree = 10\n",
            "vp: 21  vn: 9 fp: 16 fn: 4\n",
            "FOLD #0 ->  acc:0.600000  f1:0.677419\n",
            "vp: 14  vn: 21 fp: 4 fn: 11\n",
            "FOLD #1 ->  acc:0.700000  f1:0.651163\n",
            "vp: 23  vn: 8 fp: 17 fn: 2\n",
            "FOLD #2 ->  acc:0.620000  f1:0.707692\n",
            "vp: 22  vn: 13 fp: 12 fn: 3\n",
            "FOLD #3 ->  acc:0.700000  f1:0.745763\n",
            "vp: 21  vn: 9 fp: 16 fn: 4\n",
            "FOLD #4 ->  acc:0.600000  f1:0.677419\n",
            "vp: 20  vn: 8 fp: 17 fn: 5\n",
            "FOLD #5 ->  acc:0.560000  f1:0.645161\n",
            "vp: 24  vn: 11 fp: 14 fn: 1\n",
            "FOLD #6 ->  acc:0.700000  f1:0.761905\n",
            "vp: 21  vn: 12 fp: 13 fn: 4\n",
            "FOLD #7 ->  acc:0.660000  f1:0.711864\n",
            "vp: 23  vn: 9 fp: 16 fn: 2\n",
            "FOLD #8 ->  acc:0.640000  f1:0.718750\n",
            "vp: 19  vn: 20 fp: 5 fn: 6\n",
            "FOLD #9 ->  acc:0.780000  f1:0.775510\n",
            "Acurácia   -> \tMédia: 0.66\tDesvio Padrão: 0.06\n",
            "Escore F-1 -> \tMédia: 0.71\tDesvio Padrão: 0.04\n",
            "KFOLDS = 10 \t ntree = 25\n",
            "vp: 21  vn: 12 fp: 13 fn: 4\n",
            "FOLD #0 ->  acc:0.660000  f1:0.711864\n",
            "vp: 20  vn: 8 fp: 17 fn: 5\n",
            "FOLD #1 ->  acc:0.560000  f1:0.645161\n",
            "vp: 22  vn: 13 fp: 12 fn: 3\n",
            "FOLD #2 ->  acc:0.700000  f1:0.745763\n",
            "vp: 23  vn: 12 fp: 13 fn: 2\n",
            "FOLD #3 ->  acc:0.700000  f1:0.754098\n",
            "vp: 23  vn: 7 fp: 18 fn: 2\n",
            "FOLD #4 ->  acc:0.600000  f1:0.696970\n",
            "vp: 22  vn: 9 fp: 16 fn: 3\n",
            "FOLD #5 ->  acc:0.620000  f1:0.698413\n",
            "vp: 22  vn: 10 fp: 15 fn: 3\n",
            "FOLD #6 ->  acc:0.640000  f1:0.709677\n",
            "vp: 19  vn: 12 fp: 13 fn: 6\n",
            "FOLD #7 ->  acc:0.620000  f1:0.666667\n",
            "vp: 23  vn: 13 fp: 12 fn: 2\n",
            "FOLD #8 ->  acc:0.720000  f1:0.766667\n",
            "vp: 25  vn: 10 fp: 15 fn: 0\n",
            "FOLD #9 ->  acc:0.700000  f1:0.769231\n",
            "Acurácia   -> \tMédia: 0.65\tDesvio Padrão: 0.05\n",
            "Escore F-1 -> \tMédia: 0.72\tDesvio Padrão: 0.04\n",
            "[0.70726472 0.71645107]\n",
            "[0.04250186 0.03989529]\n"
          ],
          "name": "stdout"
        },
        {
          "output_type": "display_data",
          "data": {
            "image/png": "[encoded data removed]",
            "text/plain": [
              "<matplotlib.figure.Figure at 0x7f3b4bb7fc88>"
            ]
          },
          "metadata": {
            "tags": []
          }
        }
      ]
    },
    {
      "metadata": {
        "id": "AU2X5NSxINsy",
        "colab_type": "code",
        "colab": {
          "autoexec": {
            "startup": false,
            "wait_interval": 0
          }
        }
      },
      "cell_type": "code",
      "source": [
        ""
      ],
      "execution_count": 0,
      "outputs": []
    }
  ]
}